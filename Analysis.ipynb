{
 "cells": [
  {
   "cell_type": "code",
   "execution_count": 127,
   "metadata": {},
   "outputs": [],
   "source": [
    "import pandas as pd\n",
    "import altair as alt\n",
    "from sklearn.model_selection import train_test_split"
   ]
  },
  {
   "cell_type": "code",
   "execution_count": 9,
   "metadata": {},
   "outputs": [],
   "source": [
    "# Reading data from 1997 to 2012\n",
    "\n",
    "old_data = pd.read_csv(\"Data/business-licences-1997-to-2012.csv\", sep = \";\")"
   ]
  },
  {
   "cell_type": "code",
   "execution_count": 77,
   "metadata": {},
   "outputs": [
    {
     "data": {
      "text/plain": [
       "array([ 6.,  5.,  7.,  4.,  9.,  8., 10., 11.,  3.,  2.,  0.,  1., 99.,\n",
       "       12., 97., 96., 98., 94., nan])"
      ]
     },
     "execution_count": 77,
     "metadata": {},
     "output_type": "execute_result"
    }
   ],
   "source": [
    "old_data.FOLDERYEAR.unique()"
   ]
  },
  {
   "cell_type": "code",
   "execution_count": 10,
   "metadata": {},
   "outputs": [],
   "source": [
    "# Reading new data from 2013 to 2020\n",
    "\n",
    "new_data = pd.read_csv(\"Data/business-licences.csv\", sep = \";\")"
   ]
  },
  {
   "cell_type": "code",
   "execution_count": 145,
   "metadata": {},
   "outputs": [],
   "source": [
    "# Training set contains data from 1997 up until 2017\n",
    "\n",
    "train = pd.concat([old_data, new_data[new_data.FOLDERYEAR.isin([13, 14, 15])]])"
   ]
  },
  {
   "cell_type": "code",
   "execution_count": 131,
   "metadata": {},
   "outputs": [],
   "source": [
    "validation = pd.concat([old_data, new_data[new_data.FOLDERYEAR.isin([16, 17])]])"
   ]
  },
  {
   "cell_type": "code",
   "execution_count": 42,
   "metadata": {},
   "outputs": [],
   "source": [
    "# Test set contains data for 2019 and 2020\n",
    "\n",
    "test = new_data[new_data.FOLDERYEAR.isin([18, 19, 20])]"
   ]
  },
  {
   "cell_type": "markdown",
   "metadata": {},
   "source": [
    "## EDA"
   ]
  },
  {
   "cell_type": "code",
   "execution_count": 147,
   "metadata": {},
   "outputs": [
    {
     "data": {
      "text/plain": [
       "FOLDERYEAR               float64\n",
       "LicenceRSN                 int64\n",
       "LicenceNumber             object\n",
       "LicenceRevisionNumber    float64\n",
       "BusinessName              object\n",
       "BusinessTradeName         object\n",
       "Status                    object\n",
       "IssuedDate                object\n",
       "ExpiredDate               object\n",
       "BusinessType              object\n",
       "BusinessSubType           object\n",
       "Unit                      object\n",
       "UnitType                  object\n",
       "House                     object\n",
       "Street                    object\n",
       "City                      object\n",
       "Province                  object\n",
       "Country                   object\n",
       "PostalCode                object\n",
       "LocalArea                 object\n",
       "NumberofEmployees        float64\n",
       "FeePaid                  float64\n",
       "ExtractDate               object\n",
       "Geom                      object\n",
       "dtype: object"
      ]
     },
     "execution_count": 147,
     "metadata": {},
     "output_type": "execute_result"
    }
   ],
   "source": [
    "train.dtypes"
   ]
  },
  {
   "cell_type": "code",
   "execution_count": 165,
   "metadata": {},
   "outputs": [
    {
     "data": {
      "text/plain": [
       "772"
      ]
     },
     "execution_count": 165,
     "metadata": {},
     "output_type": "execute_result"
    }
   ],
   "source": [
    "train.shape[0] - train.LicenceRSN.nunique()"
   ]
  },
  {
   "cell_type": "markdown",
   "metadata": {},
   "source": [
    "> Some duplicate RSNs."
   ]
  },
  {
   "cell_type": "code",
   "execution_count": 149,
   "metadata": {},
   "outputs": [
    {
     "data": {
      "text/plain": [
       "FOLDERYEAR\n",
       "0.0     58278\n",
       "1.0     60258\n",
       "2.0     58636\n",
       "3.0     59432\n",
       "4.0     59048\n",
       "5.0     59674\n",
       "6.0     58464\n",
       "7.0     57578\n",
       "8.0     58134\n",
       "9.0     59096\n",
       "10.0    60193\n",
       "11.0    60494\n",
       "12.0    59770\n",
       "13.0    59248\n",
       "14.0    59076\n",
       "15.0    59447\n",
       "94.0        1\n",
       "96.0       10\n",
       "97.0    63239\n",
       "98.0    63423\n",
       "99.0    59581\n",
       "Name: LicenceNumber, dtype: int64"
      ]
     },
     "execution_count": 149,
     "metadata": {},
     "output_type": "execute_result"
    }
   ],
   "source": [
    "train.groupby(by = \"FOLDERYEAR\").LicenceNumber.nunique()"
   ]
  },
  {
   "cell_type": "markdown",
   "metadata": {},
   "source": [
    "> I believe that years 94 and 96 are not useful and can be dropped"
   ]
  },
  {
   "cell_type": "code",
   "execution_count": 150,
   "metadata": {},
   "outputs": [],
   "source": [
    "train = train.query(\"FOLDERYEAR != [94.0, 96.0]\")"
   ]
  },
  {
   "cell_type": "code",
   "execution_count": 163,
   "metadata": {},
   "outputs": [
    {
     "data": {
      "text/plain": [
       "FOLDERYEAR                True\n",
       "LicenceRSN               False\n",
       "LicenceNumber            False\n",
       "LicenceRevisionNumber     True\n",
       "BusinessName              True\n",
       "BusinessTradeName         True\n",
       "Status                   False\n",
       "IssuedDate                True\n",
       "ExpiredDate               True\n",
       "BusinessType             False\n",
       "BusinessSubType           True\n",
       "Unit                      True\n",
       "UnitType                  True\n",
       "House                     True\n",
       "Street                    True\n",
       "City                      True\n",
       "Province                  True\n",
       "Country                   True\n",
       "PostalCode                True\n",
       "LocalArea                 True\n",
       "NumberofEmployees        False\n",
       "FeePaid                   True\n",
       "ExtractDate              False\n",
       "Geom                      True\n",
       "dtype: bool"
      ]
     },
     "execution_count": 163,
     "metadata": {},
     "output_type": "execute_result"
    }
   ],
   "source": [
    "train.isna().any()"
   ]
  },
  {
   "cell_type": "markdown",
   "metadata": {},
   "source": [
    "> Many missing values. Luckily, non in LicenceRSN."
   ]
  },
  {
   "cell_type": "markdown",
   "metadata": {},
   "source": [
    "> I should only consider Businesses in Vancouver by filtering according to city."
   ]
  },
  {
   "cell_type": "markdown",
   "metadata": {},
   "source": [
    "> Another note from the data source to keep in mind.\n",
    "> * A small percentage of businesses are issued with a replacement licence in a displayed year due to changes or when business type names were retired during mid-year."
   ]
  },
  {
   "cell_type": "code",
   "execution_count": null,
   "metadata": {},
   "outputs": [],
   "source": []
  }
 ],
 "metadata": {
  "kernelspec": {
   "display_name": "Python 3",
   "language": "python",
   "name": "python3"
  },
  "language_info": {
   "codemirror_mode": {
    "name": "ipython",
    "version": 3
   },
   "file_extension": ".py",
   "mimetype": "text/x-python",
   "name": "python",
   "nbconvert_exporter": "python",
   "pygments_lexer": "ipython3",
   "version": "3.7.6"
  }
 },
 "nbformat": 4,
 "nbformat_minor": 4
}
